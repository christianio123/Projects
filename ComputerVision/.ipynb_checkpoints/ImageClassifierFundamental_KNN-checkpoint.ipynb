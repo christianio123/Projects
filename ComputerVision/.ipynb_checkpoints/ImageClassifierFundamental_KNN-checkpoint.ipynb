{
 "cells": [
  {
   "cell_type": "markdown",
   "id": "78a2fb2f",
   "metadata": {},
   "source": [
    "# Image Classifier Fundamentals - K Nearest Neighbors\n",
    "\n",
    "Before building a k-Nearest Neighbors (k-NN) image classifier, utilities to facilitate preprocessing and loading images from disk will be developed. The k-NN classifier is often one of the first 'machine learning' models encountered by beginners, interestingly enough there is no actual 'learning' taking place by this particular model.\n",
    "\n",
    "The \"Animals\" dataset consists of three classes (dogs, cats, and pandas) with a balanced number of 1,000 images per class. The 'dog' and 'cat' images are sampled from the online kaggle competition [\"Dogs vs. Cats | Kaggle\"](https://github.com/christianio123/Projects.git). The panda class images are also sampled, however they are sampled from the [ImageNet dataset](https://www.image-net.org/). \n",
    "\n",
    "## Preprocessing Images and Loading Datasets \n",
    "\n"
   ]
  }
 ],
 "metadata": {
  "kernelspec": {
   "display_name": "Python 3 (ipykernel)",
   "language": "python",
   "name": "python3"
  },
  "language_info": {
   "codemirror_mode": {
    "name": "ipython",
    "version": 3
   },
   "file_extension": ".py",
   "mimetype": "text/x-python",
   "name": "python",
   "nbconvert_exporter": "python",
   "pygments_lexer": "ipython3",
   "version": "3.9.7"
  }
 },
 "nbformat": 4,
 "nbformat_minor": 5
}
