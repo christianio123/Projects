{
 "cells": [
  {
   "cell_type": "markdown",
   "id": "5e7693c6",
   "metadata": {},
   "source": [
    "# Image Classifier Fundamentals\n",
    "\n",
    "To establish fundamentals, first a set of utilities necessary for image preprocessing and loading from the disk. Then we will use the k-Nearest Neighbor (k-NN) classifier to recognize image class labels using only the raw pixel intensities.\n",
    "\n",
    "## Dataset: \"Animals\"\n",
    "\n",
    "The \"Animals\" dataset is a simple dataset pieced together by Adrian Rosebrock to reveal the process of training an image classifier using different machine learning techniques. The dataset consists of three class labels, (1) dogs, (2) cats, and (3) pandas. Each class label has exactly 1,000 images, totaling in 3,000 images. The images within the dataset are actually subsets of both the Kaggle \"[Dogs vs. Cats](https://www.kaggle.com/c/dogs-vs-cats)\" challenge and the [ImageNet](https://www.image-net.org/) dataset. \n",
    "\n",
    "## Utilities\n",
    "**Image Preprocessor**\n",
    "\n",
    "Images are required to be preprocessed and scaled to have identical widths and heights suitable for machine learning algorithms. Though image preprocessing can take many forms in resizing, scaling, or respect of aspect ratio, this image preprocessor will only resize images and ignore aspect ratio."
   ]
  },
  {
   "cell_type": "code",
   "execution_count": 3,
   "id": "56d005d6",
   "metadata": {},
   "outputs": [],
   "source": [
    "# import necessary packages\n",
    "import cv2\n",
    "\n",
    "class SimplePreprocessor:\n",
    "    def __init__(self, width, height, inter = cv2.INTER_AREA):\n",
    "        # store the target image width, height, and interpolation\n",
    "        # method used when resizing\n",
    "        self.width = width\n",
    "        self.height = height\n",
    "        self.inter = inter\n",
    "        \n",
    "    def preprocess(self, image):\n",
    "        # resize the image to a fixed size, ignoring the aspect ratio\n",
    "        return cv2.resize(image, (self.width, self.height), interpolation = self.inter)"
   ]
  },
  {
   "cell_type": "markdown",
   "id": "43c74703",
   "metadata": {},
   "source": [
    "The imported packaged needed for our image preprocessor is cv2, otherwise known as OpenCV.\n",
    "\n",
    "Following library imports, the constructor is seen with three arguments.\n",
    "- *width*: Required, the desired width of the input image after resizing.\n",
    "- *height*: Required, the desired height of our input image after resizing. \n",
    "- *inter*: Optional, choice of interpolation algorithm when resizing.\n",
    "\n",
    "The *preprocess* function accepts a single input ad returns the desired processed image. \n",
    "\n",
    "**Image Loader**"
   ]
  },
  {
   "cell_type": "code",
   "execution_count": 6,
   "id": "45f89644",
   "metadata": {},
   "outputs": [],
   "source": [
    "# import the necessary packages packages\n",
    "import numpy as np\n",
    "import cv2\n",
    "import os\n",
    "\n",
    "class SimpleDatasetLoader:\n",
    "    def __init__(self, preprocessors = None):\n",
    "        # store the image preprocessor\n",
    "        self.preprocessors = preprocessors\n",
    "        \n",
    "        # if the preprocessors are None, initialize them as an empty list\n",
    "        if self.preprocessors is None: \n",
    "            self.preprocessors = []\n",
    "        \n",
    "    def load(self, imagePaths, verbose = -1):\n",
    "        # initialize the list of features and labels\n",
    "        # data = []\n",
    "        # labels = []\n",
    "        \n",
    "        # loop over the input images\n",
    "        for (i, imagePath) in enumerate(imagePaths):\n",
    "            # load the image and extract the class label assuming\n",
    "            # that our path has the following format:\n",
    "            # /path/to/dataset/{class}/{image}.jpg\n",
    "            image = cv2.imread(imagePath)\n",
    "            label = imagePath.split(os.path.sep)[-2]"
   ]
  },
  {
   "cell_type": "markdown",
   "id": "3f16c059",
   "metadata": {},
   "source": [
    "The following library packages are imported:\n",
    "- *numpy* - for numerical processing\n",
    "- *cv2* - for OpenCV bindings\n",
    "- *os* - to extract names of subdirectories in image paths\n",
    "\n",
    "The constructor has one optional argument, *preprocessors*, in which a list of desired preprocessors can be inputed to process images accordingly. The input type being a list is important to being able to perform sequential modifications, such as resizing an image first and then scaling the resized image. "
   ]
  },
  {
   "cell_type": "code",
   "execution_count": null,
   "id": "4d8a8e77",
   "metadata": {},
   "outputs": [],
   "source": []
  },
  {
   "cell_type": "code",
   "execution_count": null,
   "id": "8b326438",
   "metadata": {},
   "outputs": [],
   "source": []
  },
  {
   "cell_type": "code",
   "execution_count": null,
   "id": "0144934e",
   "metadata": {},
   "outputs": [],
   "source": []
  },
  {
   "cell_type": "code",
   "execution_count": null,
   "id": "50022319",
   "metadata": {},
   "outputs": [],
   "source": []
  },
  {
   "cell_type": "code",
   "execution_count": null,
   "id": "a394b7dc",
   "metadata": {},
   "outputs": [],
   "source": []
  },
  {
   "cell_type": "code",
   "execution_count": null,
   "id": "47a1bb98",
   "metadata": {},
   "outputs": [],
   "source": []
  },
  {
   "cell_type": "code",
   "execution_count": null,
   "id": "d7fe807e",
   "metadata": {},
   "outputs": [],
   "source": []
  },
  {
   "cell_type": "code",
   "execution_count": null,
   "id": "32516cfb",
   "metadata": {},
   "outputs": [],
   "source": []
  }
 ],
 "metadata": {
  "kernelspec": {
   "display_name": "Python 3 (ipykernel)",
   "language": "python",
   "name": "python3"
  },
  "language_info": {
   "codemirror_mode": {
    "name": "ipython",
    "version": 3
   },
   "file_extension": ".py",
   "mimetype": "text/x-python",
   "name": "python",
   "nbconvert_exporter": "python",
   "pygments_lexer": "ipython3",
   "version": "3.9.7"
  }
 },
 "nbformat": 4,
 "nbformat_minor": 5
}
